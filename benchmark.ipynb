{
 "cells": [
  {
   "cell_type": "markdown",
   "metadata": {},
   "source": [
    "# Classic"
   ]
  },
  {
   "cell_type": "code",
   "execution_count": null,
   "metadata": {},
   "outputs": [],
   "source": [
    "import datetime\n",
    "\n",
    "import numpy as np\n",
    "from matplotlib import pyplot as plt\n",
    "import torch\n",
    "import torch.nn as nn\n",
    "import torch.optim as optim\n",
    "from torch.utils.data import DataLoader, random_split\n",
    "from tqdm import tqdm\n",
    "import seaborn as sns\n",
    "\n",
    "from tst.loss import OZELoss\n",
    "\n",
    "from src.benchmark import LSTM\n",
    "from src.dataset import OzeDataset\n",
    "from src.utils import visual_sample, compute_loss"
   ]
  },
  {
   "cell_type": "code",
   "execution_count": null,
   "metadata": {},
   "outputs": [],
   "source": [
    "# Training parameters\n",
    "DATASET_PATH = 'datasets/dataset_random.npz'\n",
    "BATCH_SIZE = 8\n",
    "NUM_WORKERS = 4\n",
    "LR = 2e-4\n",
    "EPOCHS = 50\n",
    "\n",
    "# Model parameters\n",
    "d_model = 64 # Lattent dim\n",
    "N = 4*2 # Number of layers\n",
    "dropout = 0.2 # Dropout rate\n",
    "\n",
    "d_input = 38 # From dataset\n",
    "d_output = 8 # From dataset\n",
    "\n",
    "# Config\n",
    "sns.set()\n",
    "device = torch.device(\"cuda:0\" if torch.cuda.is_available() else \"cpu\")\n",
    "print(f\"Using device {device}\")"
   ]
  },
  {
   "cell_type": "markdown",
   "metadata": {},
   "source": [
    "## Training"
   ]
  },
  {
   "cell_type": "markdown",
   "metadata": {},
   "source": [
    "### Load dataset"
   ]
  },
  {
   "cell_type": "code",
   "execution_count": null,
   "metadata": {},
   "outputs": [],
   "source": [
    "ozeDataset = OzeDataset(DATASET_PATH)\n",
    "\n",
    "dataset_train, dataset_val, dataset_test = random_split(ozeDataset, (50, 25, 25))"
   ]
  },
  {
   "cell_type": "code",
   "execution_count": null,
   "metadata": {},
   "outputs": [],
   "source": [
    "dataloader_train = DataLoader(dataset_train,\n",
    "                              batch_size=BATCH_SIZE,\n",
    "                              shuffle=True,\n",
    "                              num_workers=NUM_WORKERS,\n",
    "                              pin_memory=False\n",
    "                             )\n",
    "\n",
    "dataloader_val = DataLoader(dataset_val,\n",
    "                            batch_size=BATCH_SIZE,\n",
    "                            shuffle=True,\n",
    "                            num_workers=NUM_WORKERS\n",
    "                           )\n",
    "\n",
    "dataloader_test = DataLoader(dataset_test,\n",
    "                             batch_size=BATCH_SIZE,\n",
    "                             shuffle=False,\n",
    "                             num_workers=NUM_WORKERS\n",
    "                            )"
   ]
  },
  {
   "cell_type": "markdown",
   "metadata": {},
   "source": [
    "### Load network"
   ]
  },
  {
   "cell_type": "code",
   "execution_count": null,
   "metadata": {},
   "outputs": [],
   "source": [
    "# Load transformer with Adam optimizer and MSE loss function\n",
    "net = LSTM(d_input, d_model, d_output, N, dropout=dropout).to(device)\n",
    "optimizer = optim.Adam(net.parameters(), lr=LR)\n",
    "loss_function = OZELoss(alpha=0.3)"
   ]
  },
  {
   "cell_type": "markdown",
   "metadata": {},
   "source": [
    "### Train"
   ]
  },
  {
   "cell_type": "code",
   "execution_count": null,
   "metadata": {},
   "outputs": [],
   "source": [
    "model_save_path = f'models/model_{datetime.datetime.now().strftime(\"%Y_%m_%d__%H%M%S\")}.pth'\n",
    "val_loss_best = np.inf\n",
    "\n",
    "# Prepare loss history\n",
    "hist_loss = np.zeros(EPOCHS)\n",
    "hist_loss_val = np.zeros(EPOCHS)\n",
    "for idx_epoch in range(EPOCHS):\n",
    "    running_loss = 0\n",
    "    with tqdm(total=len(dataloader_train.dataset), desc=f\"[Epoch {idx_epoch+1:3d}/{EPOCHS}]\") as pbar:\n",
    "        for idx_batch, (x, y) in enumerate(dataloader_train):\n",
    "            optimizer.zero_grad()\n",
    "\n",
    "            # Propagate input\n",
    "            netout = net(x.to(device))\n",
    "\n",
    "            # Comupte loss\n",
    "            loss = loss_function(y.to(device), netout)\n",
    "\n",
    "            # Backpropage loss\n",
    "            loss.backward()\n",
    "\n",
    "            # Update weights\n",
    "            optimizer.step()\n",
    "\n",
    "            running_loss += loss.item()\n",
    "            pbar.set_postfix({'loss': running_loss/(idx_batch+1)})\n",
    "            pbar.update(x.shape[0])\n",
    "        \n",
    "        train_loss = running_loss/len(dataloader_train)\n",
    "        val_loss = compute_loss(net, dataloader_val, loss_function, device).item()\n",
    "        pbar.set_postfix({'loss': train_loss, 'val_loss': val_loss})\n",
    "        \n",
    "        hist_loss[idx_epoch] = train_loss\n",
    "        hist_loss_val[idx_epoch] = val_loss\n",
    "        \n",
    "        if val_loss < val_loss_best:\n",
    "            val_loss_best = val_loss\n",
    "            torch.save(net.state_dict(), model_save_path)\n",
    "        \n",
    "plt.plot(hist_loss, 'o-', label='train')\n",
    "plt.plot(hist_loss_val, 'o-', label='val')\n",
    "plt.legend()\n",
    "print(f\"model exported to {model_save_path} with loss {val_loss_best:5f}\")"
   ]
  },
  {
   "cell_type": "markdown",
   "metadata": {},
   "source": [
    "## Validation"
   ]
  },
  {
   "cell_type": "code",
   "execution_count": null,
   "metadata": {},
   "outputs": [],
   "source": [
    "_ = net.eval()"
   ]
  },
  {
   "cell_type": "markdown",
   "metadata": {},
   "source": [
    "### Plot results on a sample"
   ]
  },
  {
   "cell_type": "code",
   "execution_count": null,
   "metadata": {},
   "outputs": [],
   "source": [
    "visual_sample(dataloader_test, net, device)\n",
    "plt.savefig(\"fig\")"
   ]
  },
  {
   "cell_type": "markdown",
   "metadata": {},
   "source": [
    "### Evaluate on the test dataset"
   ]
  },
  {
   "cell_type": "code",
   "execution_count": null,
   "metadata": {},
   "outputs": [],
   "source": [
    "predictions = np.empty(shape=(len(dataloader_test.dataset), 168, 8))\n",
    "\n",
    "idx_prediction = 0\n",
    "with torch.no_grad():\n",
    "    for x, y in tqdm(dataloader_test, total=len(dataloader_test)):\n",
    "        netout = net(x.to(device)).cpu().numpy()\n",
    "        predictions[idx_prediction:idx_prediction+x.shape[0]] = netout\n",
    "        idx_prediction += x.shape[0]"
   ]
  },
  {
   "cell_type": "code",
   "execution_count": null,
   "metadata": {},
   "outputs": [],
   "source": [
    "fig, axes = plt.subplots(8, 1)\n",
    "fig.set_figwidth(20)\n",
    "fig.set_figheight(40)\n",
    "plt.subplots_adjust(bottom=0.05)\n",
    "\n",
    "occupancy = (dataloader_test.dataset.dataset._x.numpy()[..., dataloader_test.dataset.dataset.labels[\"Z\"].index(\"occupancy\")].mean(axis=0)>0.5).astype(float)\n",
    "y_true_full = dataloader_test.dataset.dataset._y[dataloader_test.dataset.indices].numpy()\n",
    "                                                 \n",
    "for idx_label, (label, ax) in enumerate(zip(dataloader_test.dataset.dataset.labels['X'], axes)):\n",
    "    # Select output to plot\n",
    "    y_true = y_true_full[..., idx_label]\n",
    "    y_pred = predictions[..., idx_label]\n",
    "    \n",
    "    # Rescale\n",
    "    y_true = dataloader_test.dataset.dataset.rescale(y_true, idx_label)\n",
    "    y_pred = dataloader_test.dataset.dataset.rescale(y_pred, idx_label)\n",
    "    \n",
    "    if label.startswith('Q_'):\n",
    "        # Convert kJ/h to kW\n",
    "        y_true /= 3600\n",
    "        y_pred /= 3600\n",
    "        \n",
    "    # Compute delta, mean and std\n",
    "    delta = np.abs(y_true - y_pred)\n",
    "    \n",
    "    mean = delta.mean(axis=0)\n",
    "    std = delta.std(axis=0)\n",
    "    \n",
    "    # Plot\n",
    "    # Labels for consumption and temperature\n",
    "    if label.startswith('Q_'):\n",
    "        y_label_unit = 'kW'\n",
    "        \n",
    "\n",
    "    else:\n",
    "        y_label_unit = '°C'\n",
    "        \n",
    "    # Occupancy\n",
    "    occupancy_idxes = np.where(np.diff(occupancy) != 0)[0]\n",
    "    for idx in range(0, len(occupancy_idxes), 2):\n",
    "        ax.axvspan(occupancy_idxes[idx], occupancy_idxes[idx+1], facecolor='green', alpha=.15)\n",
    "    \n",
    "    # Std\n",
    "    ax.fill_between(np.arange(mean.shape[0]), (mean - std), (mean + std), alpha=.4, label='std')\n",
    "    \n",
    "    # Mean\n",
    "    ax.plot(mean, label='mean')\n",
    "    \n",
    "    # Title and labels\n",
    "    ax.set_title(label)\n",
    "    ax.set_xlabel('time', fontsize=16)\n",
    "    ax.set_ylabel(y_label_unit, fontsize=16)\n",
    "    \n",
    "    ax.legend()\n",
    "    \n",
    "plt.savefig('error_mean_std')"
   ]
  }
 ],
 "metadata": {
  "kernelspec": {
   "display_name": "Python 3",
   "language": "python",
   "name": "python3"
  },
  "language_info": {
   "codemirror_mode": {
    "name": "ipython",
    "version": 3
   },
   "file_extension": ".py",
   "mimetype": "text/x-python",
   "name": "python",
   "nbconvert_exporter": "python",
   "pygments_lexer": "ipython3",
   "version": "3.7.3"
  }
 },
 "nbformat": 4,
 "nbformat_minor": 4
}
